{
 "cells": [
  {
   "cell_type": "code",
   "execution_count": 1,
   "metadata": {},
   "outputs": [],
   "source": [
    "# Load library\n",
    "from d3blocks import D3Blocks\n",
    "#\n",
    "# Initialize\n",
    "d3 = D3Blocks()\n",
    "import os\n",
    "from IPython.display import IFrame\n",
    "\n",
    "\n",
    "cur_cwd = os.getcwd()\n",
    "# Note this must be stored in the directory as the notebook in Jupyter lab in order to render correctly\n",
    "outfile = f\"{cur_cwd}/outputfile.html\"\n",
    "\n",
    "#\n",
    "# Import example\n",
    "df = d3.import_example('energy') # 'bigbang', 'stormofswords'\n",
    "#\n",
    "# Create network using default\n",
    "d3.d3graph(df, filepath=outfile)\n",
    "#\n",
    "# Change scaler\n",
    "d3.d3graph(df, scaler='minmax')\n",
    "#\n",
    "# Change node properties\n",
    "d3.D3graph.set_node_properties(color=None)\n",
    "d3.D3graph.node_properties['Solar']['size']=30\n",
    "d3.D3graph.node_properties['Solar']['color']='#FF0000'\n",
    "d3.D3graph.node_properties['Solar']['edge_color']='#000000'\n",
    "d3.D3graph.node_properties['Solar']['edge_size']=5\n",
    "#d3.D3graph.show()\n",
    "\n",
    "\n",
    "\n",
    "\n",
    "# Graph something with d3blocks set filepath = outfile\n",
    "#display(IFrame(outfile, width=800, height=600))"
   ]
  },
  {
   "cell_type": "code",
   "execution_count": 4,
   "metadata": {},
   "outputs": [
    {
     "data": {
      "text/html": [
       "\n",
       "        <iframe\n",
       "            width=\"800\"\n",
       "            height=\"600\"\n",
       "            src=\"/workspaces/Running-Data/outputfile.html\"\n",
       "            frameborder=\"0\"\n",
       "            allowfullscreen\n",
       "            \n",
       "        ></iframe>\n",
       "        "
      ],
      "text/plain": [
       "<IPython.lib.display.IFrame at 0x7f7e54212740>"
      ]
     },
     "metadata": {},
     "output_type": "display_data"
    }
   ],
   "source": [
    "\n",
    "import os\n",
    "from IPython.display import IFrame\n",
    "\n",
    "\n",
    "cur_cwd = os.getcwd()\n",
    "# Note this must be stored in the directory as the notebook in Jupyter lab in order to render correctly\n",
    "outfile = f\"{cur_cwd}/outputfile.html\"\n",
    "display(IFrame(outfile, width=800, height=600))"
   ]
  },
  {
   "cell_type": "code",
   "execution_count": 2,
   "metadata": {},
   "outputs": [
    {
     "name": "stderr",
     "output_type": "stream",
     "text": [
      "[d3blocks] >INFO> Cleaning edge_properties and config parameters..\n"
     ]
    },
    {
     "name": "stdout",
     "output_type": "stream",
     "text": [
      "/workspaces/Running-Data\n"
     ]
    },
    {
     "ename": "NameError",
     "evalue": "name 'df' is not defined",
     "output_type": "error",
     "traceback": [
      "\u001b[0;31m---------------------------------------------------------------------------\u001b[0m",
      "\u001b[0;31mNameError\u001b[0m                                 Traceback (most recent call last)",
      "Cell \u001b[0;32mIn[2], line 12\u001b[0m\n\u001b[1;32m      9\u001b[0m outfile \u001b[38;5;241m=\u001b[39m \u001b[38;5;124mf\u001b[39m\u001b[38;5;124m\"\u001b[39m\u001b[38;5;132;01m{\u001b[39;00mcur_cwd\u001b[38;5;132;01m}\u001b[39;00m\u001b[38;5;124m/outputfile.html\u001b[39m\u001b[38;5;124m\"\u001b[39m\n\u001b[1;32m     11\u001b[0m \u001b[38;5;66;03m# Graph something with d3blocks set filepath = outfile\u001b[39;00m\n\u001b[0;32m---> 12\u001b[0m d3\u001b[38;5;241m.\u001b[39msankey(\u001b[43mdf\u001b[49m, filepath\u001b[38;5;241m=\u001b[39moutfile, link\u001b[38;5;241m=\u001b[39m{\u001b[38;5;124m\"\u001b[39m\u001b[38;5;124mcolor\u001b[39m\u001b[38;5;124m\"\u001b[39m: \u001b[38;5;124m\"\u001b[39m\u001b[38;5;124msource-target\u001b[39m\u001b[38;5;124m\"\u001b[39m})\n\u001b[1;32m     13\u001b[0m display(IFrame(outfile, width\u001b[38;5;241m=\u001b[39m\u001b[38;5;241m800\u001b[39m, height\u001b[38;5;241m=\u001b[39m\u001b[38;5;241m600\u001b[39m))\n",
      "\u001b[0;31mNameError\u001b[0m: name 'df' is not defined"
     ]
    }
   ],
   "source": [
    "import os\n",
    "from d3blocks import D3Blocks\n",
    "from IPython.display import IFrame\n",
    "\n",
    "d3 = D3Blocks()\n",
    "cur_cwd = os.getcwd()\n",
    "print(cur_cwd)\n",
    "# Note this must be stored in the directory as the notebook in Jupyter lab in order to render correctly\n",
    "outfile = f\"{cur_cwd}/outputfile.html\"\n",
    "\n",
    "# Graph something with d3blocks set filepath = outfile\n",
    "display(IFrame(outfile, width=800, height=600))"
   ]
  },
  {
   "cell_type": "code",
   "execution_count": null,
   "metadata": {},
   "outputs": [],
   "source": []
  },
  {
   "cell_type": "markdown",
   "metadata": {},
   "source": []
  }
 ],
 "metadata": {
  "kernelspec": {
   "display_name": "Python 3",
   "language": "python",
   "name": "python3"
  },
  "language_info": {
   "codemirror_mode": {
    "name": "ipython",
    "version": 3
   },
   "file_extension": ".py",
   "mimetype": "text/x-python",
   "name": "python",
   "nbconvert_exporter": "python",
   "pygments_lexer": "ipython3",
   "version": "3.10.13"
  }
 },
 "nbformat": 4,
 "nbformat_minor": 2
}
